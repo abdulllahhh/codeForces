{
 "cells": [
  {
   "cell_type": "code",
   "execution_count": null,
   "metadata": {},
   "outputs": [],
   "source": [
    "# input from user\n",
    "list_size = int(input())\n",
    "list_of_col_sizes = input().split()"
   ]
  },
  {
   "cell_type": "code",
   "execution_count": null,
   "metadata": {},
   "outputs": [],
   "source": [
    "# make a list of 1s like empty container\n",
    "list_1s = [[1]*list_size for _ in range(int(max(list_of_col_sizes)))]"
   ]
  },
  {
   "cell_type": "code",
   "execution_count": null,
   "metadata": {},
   "outputs": [],
   "source": [
    "# the required boxes position\n",
    "int_of_col_index=[] \n",
    "\n",
    "# turn list that we take as input to iter over it \n",
    "for item_of_each_column in list_of_col_sizes:\n",
    "    int_of_col_index.append(int(item_of_each_column)) #list items into integers\n"
   ]
  },
  {
   "cell_type": "code",
   "execution_count": null,
   "metadata": {},
   "outputs": [],
   "source": [
    "\n",
    "#add 0s into the 1s list to specify the boxes\n",
    "for cols in range(len(int_of_col_index)):\n",
    "    for rows in range(0,int_of_col_index[cols]):\n",
    "        rows_reversed = (rows +1) * -1\n",
    "        list_1s[rows_reversed][cols] = 0\n"
   ]
  },
  {
   "cell_type": "code",
   "execution_count": null,
   "metadata": {},
   "outputs": [],
   "source": [
    "#sort rows decending\n",
    "for row in range(int(max(list_of_col_sizes))):\n",
    "    list_1s[row].sort(reverse=True)\n",
    "    "
   ]
  },
  {
   "cell_type": "code",
   "execution_count": null,
   "metadata": {},
   "outputs": [],
   "source": [
    "#transform list   \n",
    "tlist = list(zip(*list_1s))  \n"
   ]
  },
  {
   "cell_type": "code",
   "execution_count": null,
   "metadata": {},
   "outputs": [],
   "source": [
    "#put output in a list \n",
    "out=[]\n",
    "for cols in range(list_size):\n",
    "    out.append(tlist[cols][:].count(0))\n"
   ]
  }
 ],
 "metadata": {
  "language_info": {
   "name": "python"
  },
  "orig_nbformat": 4
 },
 "nbformat": 4,
 "nbformat_minor": 2
}
